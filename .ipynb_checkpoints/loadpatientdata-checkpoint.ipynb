{
 "cells": [
  {
   "cell_type": "code",
   "execution_count": 46,
   "metadata": {},
   "outputs": [],
   "source": [
    "import matplotlib.pyplot as plt\n",
    "import numpy as np\n",
    "import spectral.io.envi as envi\n",
    "import pandas as pd\n",
    "import matplotlib.pyplot as plt\n",
    "import cv2\n",
    "from pathlib import Path\n",
    "from PIL import Image\n",
    "import os, glob\n",
    "import h5py\n",
    "from skimage.transform import resize\n",
    "from skimage.transform import rotate\n"
   ]
  },
  {
   "cell_type": "code",
   "execution_count": 11,
   "metadata": {},
   "outputs": [],
   "source": [
    "datafolderpath=\"/../../../data/mudahmad/HSI_Human_Brain_Database_IEEE_Access/\""
   ]
  },
  {
   "cell_type": "code",
   "execution_count": 64,
   "metadata": {},
   "outputs": [
    {
     "name": "stdout",
     "output_type": "stream",
     "text": [
      "[{'pat_no': '004-02', 'spec_data': '/../../../data/mudahmad/HSI_Human_Brain_Database_IEEE_Access/004-02/spec_256.npy', 'mask_data': '/../../../data/mudahmad/HSI_Human_Brain_Database_IEEE_Access/004-02/mask_256.npy', 'rotatiofiles': ['/../../../data/mudahmad/HSI_Human_Brain_Database_IEEE_Access/004-02/spec_256_rot_30.npy', '/../../../data/mudahmad/HSI_Human_Brain_Database_IEEE_Access/004-02/spec_256_rot_45.npy', '/../../../data/mudahmad/HSI_Human_Brain_Database_IEEE_Access/004-02/spec_256_rot_60.npy', '/../../../data/mudahmad/HSI_Human_Brain_Database_IEEE_Access/004-02/spec_256_rot_75.npy', '/../../../data/mudahmad/HSI_Human_Brain_Database_IEEE_Access/004-02/spec_256_rot_90.npy'], 'maskfiles': ['/../../../data/mudahmad/HSI_Human_Brain_Database_IEEE_Access/004-02/mask_256_rot_30.npy', '/../../../data/mudahmad/HSI_Human_Brain_Database_IEEE_Access/004-02/mask_256_rot_45.npy', '/../../../data/mudahmad/HSI_Human_Brain_Database_IEEE_Access/004-02/mask_256_rot_60.npy', '/../../../data/mudahmad/HSI_Human_Brain_Database_IEEE_Access/004-02/mask_256_rot_75.npy', '/../../../data/mudahmad/HSI_Human_Brain_Database_IEEE_Access/004-02/mask_256_rot_90.npy']}, {'pat_no': '004-02', 'spec_data': '/../../../data/mudahmad/HSI_Human_Brain_Database_IEEE_Access/004-02/spec_256.npy', 'mask_data': '/../../../data/mudahmad/HSI_Human_Brain_Database_IEEE_Access/004-02/mask_256.npy', 'rotatiofiles': ['/../../../data/mudahmad/HSI_Human_Brain_Database_IEEE_Access/004-02/spec_256_rot_30.npy', '/../../../data/mudahmad/HSI_Human_Brain_Database_IEEE_Access/004-02/spec_256_rot_45.npy', '/../../../data/mudahmad/HSI_Human_Brain_Database_IEEE_Access/004-02/spec_256_rot_60.npy', '/../../../data/mudahmad/HSI_Human_Brain_Database_IEEE_Access/004-02/spec_256_rot_75.npy', '/../../../data/mudahmad/HSI_Human_Brain_Database_IEEE_Access/004-02/spec_256_rot_90.npy'], 'maskfiles': ['/../../../data/mudahmad/HSI_Human_Brain_Database_IEEE_Access/004-02/mask_256_rot_30.npy', '/../../../data/mudahmad/HSI_Human_Brain_Database_IEEE_Access/004-02/mask_256_rot_45.npy', '/../../../data/mudahmad/HSI_Human_Brain_Database_IEEE_Access/004-02/mask_256_rot_60.npy', '/../../../data/mudahmad/HSI_Human_Brain_Database_IEEE_Access/004-02/mask_256_rot_75.npy', '/../../../data/mudahmad/HSI_Human_Brain_Database_IEEE_Access/004-02/mask_256_rot_90.npy']}]\n"
     ]
    }
   ],
   "source": [
    "# patientdata=[{pat_no:filddata },{}]\n",
    "def loadPatientData():\n",
    "    patientdata=[]\n",
    "\n",
    "    # Load Patient Data\n",
    "    for filename in os.listdir(datafolderpath):\n",
    "            subdir= os.path.join(datafolderpath, filename)\n",
    "            if not os.path.isfile(subdir):\n",
    "                patientfiledata={}\n",
    "                rotationfiles=[]\n",
    "                maskfiles=[]\n",
    "                patientfiledata['pat_no']=filename\n",
    "                patientdata.append(patientfiledata)\n",
    "\n",
    "                for subf in glob.glob(subdir+\"/spec_256_rot*\"):\n",
    "                    rotationfiles.append(subf)\n",
    "                for subf in glob.glob(subdir+\"/mask_256_rot*\"):\n",
    "                    maskfiles.append(subf)\n",
    "\n",
    "                patientfiledata['spec_data']=subdir+\"/spec_256.npy\"\n",
    "                patientfiledata['mask_data']=subdir+\"/mask_256.npy\"\n",
    "                patientfiledata['rotatiofiles']=rotationfiles\n",
    "                patientfiledata['maskfiles']=maskfiles\n",
    "                break\n",
    "            patientdata.append(patientfiledata)\n",
    "\n",
    "\n",
    "    print(patientdata)\n",
    "    return patientdata\n",
    "\n",
    "               \n",
    "            \n",
    "          \n",
    "            \n",
    "            \n"
   ]
  },
  {
   "cell_type": "code",
   "execution_count": 48,
   "metadata": {},
   "outputs": [
    {
     "name": "stdout",
     "output_type": "stream",
     "text": [
      "file not present\n",
      "file not present\n",
      "file not present\n",
      "file not present\n",
      "file not present\n",
      "file not present\n",
      "file not present\n",
      "file not present\n",
      "file not present\n",
      "file not present\n",
      "file not present\n",
      "file not present\n",
      "file not present\n",
      "file not present\n",
      "file not present\n",
      "file not present\n",
      "file not present\n",
      "file not present\n",
      "file not present\n",
      "file not present\n",
      "file not present\n",
      "file not present\n",
      "file not present\n",
      "file not present\n",
      "file not present\n",
      "file not present\n",
      "file not present\n",
      "file not present\n",
      "file not present\n",
      "file not present\n",
      "file not present\n",
      "file not present\n",
      "file not present\n",
      "file not present\n",
      "file not present\n",
      "file not present\n"
     ]
    }
   ],
   "source": [
    "# Delete files from each folder. \n",
    "def deleteFilesFromAllPatientFolder():\n",
    "    for filename in os.listdir(datafolderpath):\n",
    "        subdir= os.path.join(datafolderpath, filename)\n",
    "        # checking if it is a file\n",
    "        if not os.path.isfile(subdir):\n",
    "            try:\n",
    "                for filename in glob.glob(subdir+\"/spec_rot*\"):\n",
    "                    print(filename)\n",
    "                    os.remove(filename)\n",
    "            except:\n",
    "                print(\"File not present\")\n",
    "            try:\n",
    "                for filename in glob.glob(subdir+\"/maskim_*\"):\n",
    "                    os.remove(filename)\n",
    "            except:\n",
    "                print(\"file not present\")\n",
    "            try:\n",
    "                os.remove(subdir+\"/resize_256_spec.npy\")\n",
    "            except:\n",
    "                print(\"file not present\")\n",
    "        \n",
    "deleteFilesFromAllPatientFolder()\n",
    "\n",
    "       "
   ]
  }
 ],
 "metadata": {
  "kernelspec": {
   "display_name": "vir_env",
   "language": "python",
   "name": "vir_env"
  },
  "language_info": {
   "codemirror_mode": {
    "name": "ipython",
    "version": 3
   },
   "file_extension": ".py",
   "mimetype": "text/x-python",
   "name": "python",
   "nbconvert_exporter": "python",
   "pygments_lexer": "ipython3",
   "version": "3.10.0"
  }
 },
 "nbformat": 4,
 "nbformat_minor": 4
}
