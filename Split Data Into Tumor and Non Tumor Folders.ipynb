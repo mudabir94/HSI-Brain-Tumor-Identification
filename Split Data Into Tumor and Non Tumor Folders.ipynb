{
 "cells": [
  {
   "cell_type": "code",
   "execution_count": 12,
   "metadata": {},
   "outputs": [],
   "source": [
    "import matplotlib.pyplot as plt\n",
    "import numpy as np\n",
    "import spectral.io.envi as envi\n",
    "import pandas as pd\n",
    "import matplotlib.pyplot as plt\n",
    "import cv2\n",
    "from sklearn import preprocessing\n",
    "from scipy.signal import savgol_filter\n",
    "from scipy.ndimage import gaussian_filter\n",
    "from sklearn.preprocessing import StandardScaler\n",
    "from sklearn.decomposition import PCA\n",
    "from sklearn.model_selection import train_test_split\n",
    "from pathlib import Path\n",
    "from PIL import Image\n",
    "import keras\n",
    "import tensorflow as tf\n",
    "from keras.models import Sequential\n",
    "from keras.layers import Conv2D, MaxPool2D, Flatten, Dense, InputLayer, BatchNormalization, Dropout\n",
    "import h5py\n",
    "from skimage.transform import resize\n",
    "from skimage.transform import rotate\n",
    "from skimage.transform import  AffineTransform,warp\n",
    "from keras.preprocessing.image import ImageDataGenerator\n",
    "import os \n",
    "import shutil"
   ]
  },
  {
   "cell_type": "code",
   "execution_count": 13,
   "metadata": {},
   "outputs": [],
   "source": [
    "datafolderpath=\"/../../../data/mudahmad/HSI_Human_Brain_Database_IEEE_Access/\"\n",
    "\n",
    "data_path='/../../../data/mudahmad/'"
   ]
  },
  {
   "cell_type": "code",
   "execution_count": 15,
   "metadata": {},
   "outputs": [],
   "source": [
    "source = datafolderpath\n",
    "destination_tumor= '/../../../data/mudahmad/Tumor Files/'\n",
    "destination_nontumor= '/../../../data/mudahmad/Non Tumor Files/'\n",
    "\n",
    "  "
   ]
  },
  {
   "cell_type": "code",
   "execution_count": 16,
   "metadata": {},
   "outputs": [],
   "source": [
    "non_tumor_filenames=['004-02','005-01','007-01','010-03','013-01','014-01','016-01','016-02','016-03',\n",
    "                '016-04','016-05','017-01','018-01','018-02','019-01','021-05','022-01','022-02',\n",
    "                '026-02','027-02','028-03','028-04','029-02','030-02']\n"
   ]
  },
  {
   "cell_type": "code",
   "execution_count": 17,
   "metadata": {},
   "outputs": [
    {
     "ename": "ValueError",
     "evalue": "list.remove(x): x not in list",
     "output_type": "error",
     "traceback": [
      "\u001b[0;31m---------------------------------------------------------------------------\u001b[0m",
      "\u001b[0;31mValueError\u001b[0m                                Traceback (most recent call last)",
      "Input \u001b[0;32mIn [17]\u001b[0m, in \u001b[0;36m<module>\u001b[0;34m\u001b[0m\n\u001b[1;32m      1\u001b[0m nontumorfiles\u001b[38;5;241m=\u001b[39m[filename \u001b[38;5;28;01mfor\u001b[39;00m filename \u001b[38;5;129;01min\u001b[39;00m os\u001b[38;5;241m.\u001b[39mlistdir(datafolderpath) \u001b[38;5;28;01mif\u001b[39;00m filename \u001b[38;5;129;01min\u001b[39;00m non_tumor_filenames]\n\u001b[1;32m      2\u001b[0m tumorfiles\u001b[38;5;241m=\u001b[39m[filename \u001b[38;5;28;01mfor\u001b[39;00m filename \u001b[38;5;129;01min\u001b[39;00m os\u001b[38;5;241m.\u001b[39mlistdir(datafolderpath) \u001b[38;5;28;01mif\u001b[39;00m filename \u001b[38;5;129;01mnot\u001b[39;00m \u001b[38;5;129;01min\u001b[39;00m non_tumor_filenames]\n\u001b[0;32m----> 3\u001b[0m \u001b[43mtumorfiles\u001b[49m\u001b[38;5;241;43m.\u001b[39;49m\u001b[43mremove\u001b[49m\u001b[43m(\u001b[49m\u001b[38;5;124;43m'\u001b[39;49m\u001b[38;5;124;43mREADME.txt\u001b[39;49m\u001b[38;5;124;43m'\u001b[39;49m\u001b[43m)\u001b[49m\n\u001b[1;32m      4\u001b[0m \u001b[38;5;28mprint\u001b[39m(tumorfiles)\n",
      "\u001b[0;31mValueError\u001b[0m: list.remove(x): x not in list"
     ]
    }
   ],
   "source": [
    "nontumorfiles=[filename for filename in os.listdir(datafolderpath) if filename in non_tumor_filenames]\n",
    "tumorfiles=[filename for filename in os.listdir(datafolderpath) if filename not in non_tumor_filenames]\n",
    "tumorfiles.remove('README.txt')\n",
    "print(tumorfiles)"
   ]
  },
  {
   "cell_type": "markdown",
   "metadata": {},
   "source": [
    "Split files into tumor and non tumor folder"
   ]
  },
  {
   "cell_type": "code",
   "execution_count": 10,
   "metadata": {},
   "outputs": [],
   "source": [
    "allfiles = os.listdir(source)\n",
    "  \n",
    "for f in allfiles:\n",
    "#     if f in nontumorfiles:  \n",
    "#         shutil.move(source + f, destination_nontumor + f)\n",
    "#     else:\n",
    "    shutil.move(source + f, destination_tumor + f)\n",
    "        "
   ]
  }
 ],
 "metadata": {
  "kernelspec": {
   "display_name": "vir_env",
   "language": "python",
   "name": "vir_env"
  },
  "language_info": {
   "codemirror_mode": {
    "name": "ipython",
    "version": 3
   },
   "file_extension": ".py",
   "mimetype": "text/x-python",
   "name": "python",
   "nbconvert_exporter": "python",
   "pygments_lexer": "ipython3",
   "version": "3.10.0"
  }
 },
 "nbformat": 4,
 "nbformat_minor": 4
}
