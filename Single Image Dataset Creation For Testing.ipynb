{
 "cells": [
  {
   "cell_type": "code",
   "execution_count": 1,
   "metadata": {},
   "outputs": [],
   "source": [
    "from skimage.io import imread\n",
    "import matplotlib.pyplot as plt\n",
    "import numpy as np\n",
    "import spectral.io.envi as envi\n",
    "import pandas as pd\n",
    "import matplotlib.pyplot as plt\n",
    "import cv2\n",
    "from sklearn import preprocessing\n",
    "from scipy.signal import savgol_filter\n",
    "from scipy.ndimage import gaussian_filter\n",
    "from sklearn.preprocessing import StandardScaler\n",
    "from sklearn.decomposition import PCA\n",
    "from sklearn.model_selection import train_test_split\n",
    "from pathlib import Path\n",
    "from PIL import Image\n",
    "import keras\n",
    "import tensorflow as tf\n",
    "from keras.models import Sequential\n",
    "from keras.layers import Conv2D, MaxPool2D, Flatten, Dense, InputLayer, BatchNormalization, Dropout\n",
    "import os,glob\n",
    "import h5py\n",
    "from skimage.transform import resize\n",
    "from skimage.transform import rotate\n"
   ]
  },
  {
   "cell_type": "code",
   "execution_count": 2,
   "metadata": {},
   "outputs": [],
   "source": [
    "datafolderpath=\"/../../../data/mudahmad/HSI_Human_Brain_Database_IEEE_Access/\""
   ]
  },
  {
   "cell_type": "code",
   "execution_count": 3,
   "metadata": {},
   "outputs": [
    {
     "name": "stdout",
     "output_type": "stream",
     "text": [
      "[{'pat_no': '004-02', 'spec_data': '/../../../data/mudahmad/HSI_Human_Brain_Database_IEEE_Access/004-02/spec_256.npy', 'mask_data': '/../../../data/mudahmad/HSI_Human_Brain_Database_IEEE_Access/004-02/mask_256.npy', 'rotatiofiles': ['/../../../data/mudahmad/HSI_Human_Brain_Database_IEEE_Access/004-02/spec_256_rot_30.npy', '/../../../data/mudahmad/HSI_Human_Brain_Database_IEEE_Access/004-02/spec_256_rot_45.npy', '/../../../data/mudahmad/HSI_Human_Brain_Database_IEEE_Access/004-02/spec_256_rot_60.npy', '/../../../data/mudahmad/HSI_Human_Brain_Database_IEEE_Access/004-02/spec_256_rot_75.npy', '/../../../data/mudahmad/HSI_Human_Brain_Database_IEEE_Access/004-02/spec_256_rot_90.npy'], 'maskfiles': ['/../../../data/mudahmad/HSI_Human_Brain_Database_IEEE_Access/004-02/mask_256_rot_30.npy', '/../../../data/mudahmad/HSI_Human_Brain_Database_IEEE_Access/004-02/mask_256_rot_45.npy', '/../../../data/mudahmad/HSI_Human_Brain_Database_IEEE_Access/004-02/mask_256_rot_60.npy', '/../../../data/mudahmad/HSI_Human_Brain_Database_IEEE_Access/004-02/mask_256_rot_75.npy', '/../../../data/mudahmad/HSI_Human_Brain_Database_IEEE_Access/004-02/mask_256_rot_90.npy']}]\n"
     ]
    }
   ],
   "source": [
    "#load Path Data\n",
    "def loadPatientData():\n",
    "    patientdata=[]\n",
    "\n",
    "    # Load Patient Data\n",
    "    for filename in os.listdir(datafolderpath):\n",
    "        subdir= os.path.join(datafolderpath, filename)\n",
    "        if not os.path.isfile(subdir):\n",
    "            patientfiledata={}\n",
    "            rotationfiles=[]\n",
    "            maskfiles=[]\n",
    "            patientfiledata['pat_no']=filename\n",
    "            patientdata.append(patientfiledata)\n",
    "\n",
    "            for subf in glob.glob(subdir+\"/spec_256_rot*\"):\n",
    "                rotationfiles.append(subf)\n",
    "            for subf in glob.glob(subdir+\"/mask_256_rot*\"):\n",
    "                maskfiles.append(subf)\n",
    "\n",
    "            patientfiledata['spec_data']=subdir+\"/spec_256.npy\"\n",
    "            patientfiledata['mask_data']=subdir+\"/mask_256.npy\"\n",
    "            patientfiledata['rotatiofiles']=rotationfiles\n",
    "            patientfiledata['maskfiles']=maskfiles\n",
    "            break\n",
    "\n",
    "\n",
    "    print(patientdata)\n",
    "    return patientdata\n",
    "data=loadPatientData()"
   ]
  },
  {
   "cell_type": "code",
   "execution_count": 4,
   "metadata": {},
   "outputs": [],
   "source": [
    "#load File Data\n",
    "def loadData(path):\n",
    "     with open(path, 'rb') as f:\n",
    "        arr = np.load(f,allow_pickle=True)\n",
    "        return arr"
   ]
  },
  {
   "cell_type": "code",
   "execution_count": 10,
   "metadata": {},
   "outputs": [
    {
     "name": "stdout",
     "output_type": "stream",
     "text": [
      "(256, 256, 700)\n",
      "(256, 256, 1)\n",
      "0\n",
      "tf.Tensor(\n",
      "[[[[1. 0. 0. 0. 0.]]\n",
      "\n",
      "  [[1. 0. 0. 0. 0.]]\n",
      "\n",
      "  [[1. 0. 0. 0. 0.]]\n",
      "\n",
      "  ...\n",
      "\n",
      "  [[1. 0. 0. 0. 0.]]\n",
      "\n",
      "  [[1. 0. 0. 0. 0.]]\n",
      "\n",
      "  [[1. 0. 0. 0. 0.]]]\n",
      "\n",
      "\n",
      " [[[1. 0. 0. 0. 0.]]\n",
      "\n",
      "  [[1. 0. 0. 0. 0.]]\n",
      "\n",
      "  [[1. 0. 0. 0. 0.]]\n",
      "\n",
      "  ...\n",
      "\n",
      "  [[1. 0. 0. 0. 0.]]\n",
      "\n",
      "  [[1. 0. 0. 0. 0.]]\n",
      "\n",
      "  [[1. 0. 0. 0. 0.]]]\n",
      "\n",
      "\n",
      " [[[1. 0. 0. 0. 0.]]\n",
      "\n",
      "  [[1. 0. 0. 0. 0.]]\n",
      "\n",
      "  [[1. 0. 0. 0. 0.]]\n",
      "\n",
      "  ...\n",
      "\n",
      "  [[1. 0. 0. 0. 0.]]\n",
      "\n",
      "  [[1. 0. 0. 0. 0.]]\n",
      "\n",
      "  [[1. 0. 0. 0. 0.]]]\n",
      "\n",
      "\n",
      " ...\n",
      "\n",
      "\n",
      " [[[1. 0. 0. 0. 0.]]\n",
      "\n",
      "  [[1. 0. 0. 0. 0.]]\n",
      "\n",
      "  [[1. 0. 0. 0. 0.]]\n",
      "\n",
      "  ...\n",
      "\n",
      "  [[1. 0. 0. 0. 0.]]\n",
      "\n",
      "  [[1. 0. 0. 0. 0.]]\n",
      "\n",
      "  [[1. 0. 0. 0. 0.]]]\n",
      "\n",
      "\n",
      " [[[1. 0. 0. 0. 0.]]\n",
      "\n",
      "  [[1. 0. 0. 0. 0.]]\n",
      "\n",
      "  [[1. 0. 0. 0. 0.]]\n",
      "\n",
      "  ...\n",
      "\n",
      "  [[1. 0. 0. 0. 0.]]\n",
      "\n",
      "  [[1. 0. 0. 0. 0.]]\n",
      "\n",
      "  [[1. 0. 0. 0. 0.]]]\n",
      "\n",
      "\n",
      " [[[1. 0. 0. 0. 0.]]\n",
      "\n",
      "  [[1. 0. 0. 0. 0.]]\n",
      "\n",
      "  [[1. 0. 0. 0. 0.]]\n",
      "\n",
      "  ...\n",
      "\n",
      "  [[1. 0. 0. 0. 0.]]\n",
      "\n",
      "  [[1. 0. 0. 0. 0.]]\n",
      "\n",
      "  [[1. 0. 0. 0. 0.]]]], shape=(256, 256, 1, 5), dtype=float32)\n"
     ]
    }
   ],
   "source": [
    "# f, axs = plt.subplots(1,2,figsize=(15,15))\n",
    "pat=data[0]\n",
    "spec_data=loadData(pat['spec_data'])\n",
    "mask_data=loadData(pat['mask_data'])\n",
    "\n",
    "print(spec_data.shape)\n",
    "print(mask_data.shape)\n",
    "\n",
    "\n",
    "print(mask_data.reshape(256*256,)[0])\n",
    "\n",
    "label_data=tf.one_hot(\n",
    "    mask_data,#your image with label\n",
    "    5, #the number of classes\n",
    "    on_value=None,\n",
    "    off_value=None,\n",
    "    axis=None,\n",
    "    dtype=None,\n",
    "    name=None\n",
    ")\n",
    "print(label_data)"
   ]
  },
  {
   "cell_type": "code",
   "execution_count": 13,
   "metadata": {},
   "outputs": [
    {
     "data": {
      "text/plain": [
       "array([[0, 0, 0, ..., 0, 0, 0],\n",
       "       [0, 0, 0, ..., 0, 0, 0],\n",
       "       [0, 0, 0, ..., 0, 0, 0],\n",
       "       ...,\n",
       "       [0, 0, 0, ..., 0, 0, 0],\n",
       "       [0, 0, 0, ..., 0, 0, 0],\n",
       "       [0, 0, 0, ..., 0, 0, 0]])"
      ]
     },
     "execution_count": 13,
     "metadata": {},
     "output_type": "execute_result"
    }
   ],
   "source": [
    "mask_data.reshape(256,256)"
   ]
  }
 ],
 "metadata": {
  "kernelspec": {
   "display_name": "vir_env",
   "language": "python",
   "name": "vir_env"
  },
  "language_info": {
   "codemirror_mode": {
    "name": "ipython",
    "version": 3
   },
   "file_extension": ".py",
   "mimetype": "text/x-python",
   "name": "python",
   "nbconvert_exporter": "python",
   "pygments_lexer": "ipython3",
   "version": "3.10.0"
  }
 },
 "nbformat": 4,
 "nbformat_minor": 4
}
