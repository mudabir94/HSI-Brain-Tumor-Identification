{
 "cells": [
  {
   "cell_type": "code",
   "execution_count": 2,
   "metadata": {},
   "outputs": [],
   "source": [
    "from keras.models import Sequential\n",
    "from keras.layers import Dense, Dropout, Conv2D, MaxPool2D\n",
    "from keras.utils import np_utils\n",
    "import matplotlib.pyplot as plt\n",
    "import numpy as np\n",
    "import spectral.io.envi as envi\n",
    "import pandas as pd\n",
    "import matplotlib.pyplot as plt\n",
    "import cv2\n",
    "from sklearn import preprocessing\n",
    "from scipy.signal import savgol_filter\n",
    "from scipy.ndimage import gaussian_filter\n",
    "from sklearn.preprocessing import StandardScaler\n",
    "from sklearn.decomposition import PCA\n",
    "from sklearn.model_selection import train_test_split\n",
    "from pathlib import Path\n",
    "from PIL import Image\n",
    "import keras\n",
    "import tensorflow as tf\n",
    "from keras.models import Sequential\n",
    "from keras.layers import Conv2D, MaxPool2D, Flatten, Dense, InputLayer, BatchNormalization, Dropout\n",
    "import h5py\n",
    "\n"
   ]
  },
  {
   "cell_type": "code",
   "execution_count": 3,
   "metadata": {},
   "outputs": [],
   "source": [
    "#Reading h5py file\n",
    "hf = h5py.File('cropped_im_700_all', 'r')\n",
    "hf.keys()\n",
    "# extract features\n",
    "features = hf.get('features')\n",
    "labels = hf.get('labels')\n",
    "features = np.array(features)\n",
    "labels = np.array(labels)\n",
    "\n"
   ]
  },
  {
   "cell_type": "code",
   "execution_count": 4,
   "metadata": {},
   "outputs": [
    {
     "name": "stdout",
     "output_type": "stream",
     "text": [
      "(28, 69600, 700) (28, 69600)\n",
      "(8, 69600, 700) (8, 69600)\n"
     ]
    }
   ],
   "source": [
    "images_train, images_test, labels_train, labels_test = train_test_split(features, labels, test_size=0.2)\n",
    "print(images_train.shape,labels_train.shape)\n",
    "print(images_test.shape,labels_test.shape)\n",
    "X_train=images_train\n",
    "X_test=images_test\n",
    "Y_train=labels_train\n",
    "Y_test=labels_test"
   ]
  },
  {
   "cell_type": "code",
   "execution_count": 5,
   "metadata": {},
   "outputs": [],
   "source": [
    "X_train=X_train.reshape(28,290*240,700)\n",
    "X_test=X_test.reshape(8,290*240,700)\n"
   ]
  },
  {
   "cell_type": "code",
   "execution_count": 6,
   "metadata": {},
   "outputs": [
    {
     "name": "stdout",
     "output_type": "stream",
     "text": [
      "Shape before one-hot encoding:  (28, 69600)\n",
      "Shape after one-hot encoding:  (28, 69600, 5)\n"
     ]
    }
   ],
   "source": [
    "# # one-hot encoding using keras' numpy-related utilities\n",
    "n_classes = 5\n",
    "print(\"Shape before one-hot encoding: \", labels_train.shape)\n",
    "Y_train = np_utils.to_categorical(labels_train, n_classes)\n",
    "Y_test = np_utils.to_categorical(labels_test, n_classes)\n",
    "print(\"Shape after one-hot encoding: \", Y_train.shape)"
   ]
  },
  {
   "cell_type": "code",
   "execution_count": 7,
   "metadata": {},
   "outputs": [
    {
     "name": "stdout",
     "output_type": "stream",
     "text": [
      "Model: \"sequential\"\n",
      "_________________________________________________________________\n",
      " Layer (type)                Output Shape              Param #   \n",
      "=================================================================\n",
      " dense (Dense)               (None, 69600, 100)        70100     \n",
      "                                                                 \n",
      " dense_1 (Dense)             (None, 69600, 5)          505       \n",
      "                                                                 \n",
      "=================================================================\n",
      "Total params: 70,605\n",
      "Trainable params: 70,605\n",
      "Non-trainable params: 0\n",
      "_________________________________________________________________\n"
     ]
    },
    {
     "name": "stderr",
     "output_type": "stream",
     "text": [
      "2022-02-07 18:07:10.615609: I tensorflow/core/platform/cpu_feature_guard.cc:151] This TensorFlow binary is optimized with oneAPI Deep Neural Network Library (oneDNN) to use the following CPU instructions in performance-critical operations:  AVX2 AVX512F FMA\n",
      "To enable them in other operations, rebuild TensorFlow with the appropriate compiler flags.\n",
      "2022-02-07 18:07:11.585348: I tensorflow/core/common_runtime/gpu/gpu_device.cc:1525] Created device /job:localhost/replica:0/task:0/device:GPU:0 with 10241 MB memory:  -> device: 0, name: NVIDIA GeForce RTX 3060, pci bus id: 0000:2d:00.0, compute capability: 8.6\n",
      "2022-02-07 18:07:11.586226: I tensorflow/core/common_runtime/gpu/gpu_device.cc:1525] Created device /job:localhost/replica:0/task:0/device:GPU:1 with 6675 MB memory:  -> device: 1, name: NVIDIA GeForce RTX 2070, pci bus id: 0000:99:00.0, compute capability: 7.5\n"
     ]
    },
    {
     "name": "stdout",
     "output_type": "stream",
     "text": [
      "Epoch 1/10\n",
      " 2/14 [===>..........................] - ETA: 1s - loss: 1.1219 - accuracy: 0.4892 "
     ]
    },
    {
     "name": "stderr",
     "output_type": "stream",
     "text": [
      "2022-02-07 18:07:21.885064: I tensorflow/stream_executor/cuda/cuda_blas.cc:1786] TensorFloat-32 will be used for the matrix multiplication. This will only be logged once.\n"
     ]
    },
    {
     "name": "stdout",
     "output_type": "stream",
     "text": [
      "14/14 [==============================] - 7s 369ms/step - loss: 0.6101 - accuracy: 0.8753 - val_loss: 0.5489 - val_accuracy: 0.9256\n",
      "Epoch 2/10\n",
      "14/14 [==============================] - 3s 195ms/step - loss: 0.3382 - accuracy: 0.9441 - val_loss: 0.3509 - val_accuracy: 0.9256\n",
      "Epoch 3/10\n",
      "14/14 [==============================] - 3s 193ms/step - loss: 0.3129 - accuracy: 0.9441 - val_loss: 0.3834 - val_accuracy: 0.9256\n",
      "Epoch 4/10\n",
      "14/14 [==============================] - 3s 193ms/step - loss: 0.2912 - accuracy: 0.9441 - val_loss: 0.3490 - val_accuracy: 0.9256\n",
      "Epoch 5/10\n",
      "14/14 [==============================] - 3s 193ms/step - loss: 0.2832 - accuracy: 0.9441 - val_loss: 0.3636 - val_accuracy: 0.9256\n",
      "Epoch 6/10\n",
      "14/14 [==============================] - 3s 188ms/step - loss: 0.2783 - accuracy: 0.9441 - val_loss: 0.3506 - val_accuracy: 0.9256\n",
      "Epoch 7/10\n",
      "14/14 [==============================] - 3s 189ms/step - loss: 0.2809 - accuracy: 0.9441 - val_loss: 0.3381 - val_accuracy: 0.9256\n",
      "Epoch 8/10\n",
      "14/14 [==============================] - 3s 195ms/step - loss: 0.2781 - accuracy: 0.9441 - val_loss: 0.3567 - val_accuracy: 0.9256\n",
      "Epoch 9/10\n",
      "14/14 [==============================] - 3s 199ms/step - loss: 0.2625 - accuracy: 0.9438 - val_loss: 0.3410 - val_accuracy: 0.9255\n",
      "Epoch 10/10\n",
      "14/14 [==============================] - 3s 194ms/step - loss: 0.2623 - accuracy: 0.9441 - val_loss: 0.3338 - val_accuracy: 0.9256\n"
     ]
    },
    {
     "data": {
      "text/plain": [
       "<keras.callbacks.History at 0x7f87af1aff40>"
      ]
     },
     "execution_count": 7,
     "metadata": {},
     "output_type": "execute_result"
    }
   ],
   "source": [
    "# building a linear stack of layers with the sequential model\n",
    "model = Sequential()\n",
    "# hidden layer\n",
    "model.add(Dense(100, input_shape=(69600,700), activation='relu'))\n",
    "# output layer\n",
    "model.add(Dense(5, activation='softmax'))\n",
    "\n",
    "# looking at the model summary\n",
    "model.summary()\n",
    "# compiling the sequential model\n",
    "model.compile(loss='categorical_crossentropy', metrics=['accuracy'], optimizer='adam')\n",
    "# training the model for 10 epochs\n",
    "model.fit(X_train, Y_train, batch_size=2, epochs=10, validation_data=(X_test, Y_test))"
   ]
  },
  {
   "cell_type": "code",
   "execution_count": null,
   "metadata": {},
   "outputs": [],
   "source": []
  }
 ],
 "metadata": {
  "kernelspec": {
   "display_name": "vir_env",
   "language": "python",
   "name": "vir_env"
  },
  "language_info": {
   "codemirror_mode": {
    "name": "ipython",
    "version": 3
   },
   "file_extension": ".py",
   "mimetype": "text/x-python",
   "name": "python",
   "nbconvert_exporter": "python",
   "pygments_lexer": "ipython3",
   "version": "3.10.0"
  }
 },
 "nbformat": 4,
 "nbformat_minor": 4
}
