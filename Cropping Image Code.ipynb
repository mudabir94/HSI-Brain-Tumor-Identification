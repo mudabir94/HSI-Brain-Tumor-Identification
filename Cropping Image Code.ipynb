{
 "cells": [
  {
   "cell_type": "code",
   "execution_count": null,
   "metadata": {},
   "outputs": [],
   "source": [
    "def cropImage(image):\n",
    "    h=image.shape[0]\n",
    "    w=image.shape[1]\n",
    "    he=145\n",
    "    we=120\n",
    "    hc=h//2\n",
    "    wc=w//2\n",
    "    img2 = image[hc-he:hc+he,wc-we:wc+we,:]\n",
    "    f, axs = plt.subplots(1,2,figsize=(15,15))\n",
    "    axs[0].imshow(image)\n",
    "    axs[1].imshow(img2)\n",
    "  \n",
    "    return img2\n",
    "\n",
    "def saveCropedImage(img,path,foldername,filename):\n",
    "    print(img.shape)\n",
    "    im = Image.fromarray(img)\n",
    "    im.save(path+\"/\"+foldername+\"/\"+filename)\n",
    "    \n",
    "def createCropImage():\n",
    "    for dic in patientdata:\n",
    "        image= plt.imread(dic['image'])\n",
    "        im=cropImage(image)\n",
    "        foldername=dic['pat_no']\n",
    "        filename=\"cropimage.jpg\"\n",
    "        saveCropedImage(im,datafolderpath,foldername,filename)\n",
    "    \n",
    "    \n",
    "createCropImage()"
   ]
  },
  {
   "cell_type": "code",
   "execution_count": null,
   "metadata": {},
   "outputs": [],
   "source": [
    "# PCA\n",
    "hf = h5py.File('cropped_im_3_all', 'w')\n",
    "hf.create_dataset('features', data=spec_features_data)\n",
    "hf.create_dataset('labels', data=spec_labels_data)\n",
    "hf.close()"
   ]
  },
  {
   "cell_type": "code",
   "execution_count": null,
   "metadata": {},
   "outputs": [],
   "source": [
    "#Save Features and labels.\n",
    "hf = h5py.File('cropped_im_700_all', 'w')\n",
    "hf.create_dataset('features', data=spec_features_data)\n",
    "hf.create_dataset('labels', data=spec_labels_data)\n",
    "hf.close()"
   ]
  },
  {
   "cell_type": "code",
   "execution_count": null,
   "metadata": {},
   "outputs": [],
   "source": [
    "#Reading h5py file\n",
    "hf = h5py.File('cropped_im_700_all', 'r')\n",
    "hf.keys()\n",
    "# extract features\n",
    "features = hf.get('features')\n",
    "labels = hf.get('labels')\n",
    "features = np.array(features)\n",
    "labels = np.array(labels)"
   ]
  }
 ],
 "metadata": {
  "kernelspec": {
   "display_name": "vir_env",
   "language": "python",
   "name": "vir_env"
  },
  "language_info": {
   "codemirror_mode": {
    "name": "ipython",
    "version": 3
   },
   "file_extension": ".py",
   "mimetype": "text/x-python",
   "name": "python",
   "nbconvert_exporter": "python",
   "pygments_lexer": "ipython3",
   "version": "3.10.0"
  }
 },
 "nbformat": 4,
 "nbformat_minor": 4
}
